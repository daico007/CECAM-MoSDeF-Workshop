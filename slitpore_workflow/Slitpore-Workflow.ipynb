{
 "cells": [
  {
   "cell_type": "markdown",
   "id": "1bfc81ba",
   "metadata": {},
   "source": [
    "<a href=\"https://colab.research.google.com/github/mosdef-hub/CECAM-MoSDeF-Workshop/blob/main/slitpore_workflow/Slitpore-Workflow.ipynb\" target=\"_parent\"><img src=\"https://colab.research.google.com/assets/colab-badge.svg\" alt=\"Open In Colab\"/></a>"
   ]
  },
  {
   "cell_type": "markdown",
   "id": "de6a6209",
   "metadata": {},
   "source": [
    "# **Carbon Slitpore Workflow**\n",
    "## Summary \n",
    "\"Porous  carbon  materials  are  used  for  separation, purification, and catalysis purposes. While the adsorption and phase behavior of nonpolar fluids in carbon pores has  been  studied  extensively,our  understanding  regarding adsorption of water in carbonaceous materials is still rudimentary. Nevertheless, the structure and the thermodynamic  properties  of  water  confined  in  hydrophobic  regions  are  of  importance  in  many  scientific disciplines such as chemistry, geology, nanotechnology, and biology. Water adsorption in hydrophobic materials is typically characterized by negligible adsorption at low relative pressures, sudden and complete pore filling by a capillary-condensation mechanism, and large adsorption/ desorption hysteresis loops.\"\n",
    "\n",
    "    - Striolo, A.; Chialvo, A. A.; Cummings, P. T.; Gubbins, K. E. Water Adsorption in Carbon-Slit Nanopores. Langmuir, 2003, 19 (20), 8583–8591.\n",
    "\n",
    "The above study was recreated in 2020 in a work by Cummings et al. using open-source moleuclar modeling software with focus on the Molecular Simulation Design Framework (MoSDeF).\n",
    "\n",
    "    - Peter Cummings, Clare McCabe, Christopher Iacovella, et al. Open-Source Molecular Modeling Software in Chemical Engineering Focusing on the Molecular Simulation Design Framework. Authorea. November 30, 2020.#\n",
    "\n",
    "\n",
    "## Learning Objective\n",
    "This notebook provides interactivre examples that will assist learners in using MoSDeF tools to:\n",
    "- Create a molecule in different method using `mBuild``\n",
    "- Load in a force field fromr XML and inspect the ForceField object with `GMSO`\n",
    "- Parameterize a system with a force field and inspect the parameterized object\n",
    "- Save out the topology and use it to run a Cassandra MC simulation using `mosdef_cassandra`\n",
    "\n",
    "## Software stack setup\n",
    "After running the cell below the kernel will restart -- This is necessary for conda dependencies, but you'll need to wait for that kernel restart before running the second cell.\n",
    "\n",
    "## Interface notes\n",
    "There are two types of output in these Colab notebooks that can be a little tricky:\n",
    "\n",
    "1. If the output is very long, for example from the mamba command in the second cell, scrolling past the output can feel onerous. In this case, scrolling up and down in the narrow grey area between the sidebar menu and the cells can help you navigate.\n",
    "\n",
    "2. If the output is a visualization of a molecule or simulation configuration, scrolling up or down will zoom in or out if the cursor is over the visualization. In these cases, take some care to scroll outside of the visualization."
   ]
  },
  {
   "cell_type": "markdown",
   "id": "f98911a6-e61f-4bd9-a957-2e13bf16ee34",
   "metadata": {
    "tags": []
   },
   "source": [
    "## 0. Set up environment on Google Colab"
   ]
  },
  {
   "cell_type": "code",
   "execution_count": null,
   "id": "fd6483c2-1fc8-4ced-b6be-2e74f226e686",
   "metadata": {},
   "outputs": [],
   "source": [
    "# Note: Run this cell first and by itself. \n",
    "# The kernel will be restarted after this step \n",
    "# There might be an error pops up stating the session crashed\n",
    "# for an unknown reason, but that is expected. \n",
    "!pip install -q condacolab\n",
    "import condacolab\n",
    "condacolab.install()"
   ]
  },
  {
   "cell_type": "code",
   "execution_count": null,
   "id": "9ea069d6-6a30-4eec-a75b-c4595ed3462b",
   "metadata": {},
   "outputs": [],
   "source": [
    "import condacolab\n",
    "condacolab.check()\n",
    "\n",
    "!conda install mamba\n",
    "\n",
    "!mamba install anaconda-client -n base\n",
    "!git clone https://github.com/mosdef-hub/CECAM-MoSDeF-Workshop\n",
    "!mamba env update -n base -f CECAM-MoSDeF-Workshop/environment.yml"
   ]
  },
  {
   "cell_type": "markdown",
   "id": "0b076f73-c5b6-46b8-9f19-8a3b11c92276",
   "metadata": {
    "tags": []
   },
   "source": [
    "## 1. Construct System with mBuild\n",
    "- The chemical system can be constructied with mBuild, the hierarchical molecular constructor of the MoSDeF software suite. The library offers several way to load or create a chemical systems, e.g., loading from common file format such as .xyz, .mol2, .pdb, from a SMILES string, using internal recipes, or user-construct recipes.\n",
    "- Below, we demonstrate two methods of creating a molecule, i.e., using a SMILES string to create a water molecule, and using an user-recipe to build a carbon slitpore."
   ]
  },
  {
   "cell_type": "code",
   "execution_count": null,
   "id": "bece27de-1c13-42e3-940d-1668de1b1a2a",
   "metadata": {},
   "outputs": [],
   "source": [
    "# Global variable for path to the CECAM-MoSDeF-Workshop for easy access of other files\n",
    "# May need to change depends on working directory of the current notebook\n",
    "%cd CECAM-MoSDeF-Workshop\n",
    "PATH = \".\""
   ]
  },
  {
   "cell_type": "code",
   "execution_count": null,
   "id": "e066e5a7-c54b-491a-97e3-abaa3c7f0638",
   "metadata": {},
   "outputs": [],
   "source": [
    "import warnings \n",
    "warnings.filterwarnings(\"ignore\")\n",
    "\n",
    "# Import Libraries\n",
    "import os\n",
    "import mbuild as mb\n",
    "import gmso\n",
    "from slitpore_workflow.porebuilder import GraphenePore, GrapheneSurface"
   ]
  },
  {
   "cell_type": "code",
   "execution_count": null,
   "id": "f6677370-c231-4b4b-8787-d66ebefab4fc",
   "metadata": {},
   "outputs": [],
   "source": [
    "# load molecules from their daylight SMILES string \n",
    "# https://www.daylight.com/dayhtml/doc/theory/theory.smiles.html\n",
    "water = mb.load(\"O\", smiles=True) \n",
    "water_box = mb.fill_box(water, box=[5,5,5], n_compounds=100) #density specify\n",
    "\n",
    "\n",
    "\"\"\"Visualization utilities\"\"\"\n",
    "water.print_hierarchy()\n",
    "\n",
    "water.visualize() # visualize molecule atoms and bonds"
   ]
  },
  {
   "cell_type": "code",
   "execution_count": null,
   "id": "32509443-2776-454f-aae7-27665f25acc6",
   "metadata": {},
   "outputs": [],
   "source": [
    "# Load structure from recipes\n",
    "graphene = GraphenePore(pore_length=4,\n",
    "                        pore_depth=4,\n",
    "                        n_sheets=1,\n",
    "                        pore_width=1.2,\n",
    "                        slit_pore_dim=1)\n",
    "# Try changing the n_sheets to form more layers\n",
    "\"\"\"Visualization utility\"\"\" \n",
    "graphene.print_hierarchy()\n",
    "\n",
    "graphene.visualize()"
   ]
  },
  {
   "cell_type": "markdown",
   "id": "8b2dd888-67e6-4468-9c69-38d7f58ef5ff",
   "metadata": {},
   "source": [
    "### Exercise 1a - Create and visualize a system with mBuild (ET: 15 mins)\n",
    "1. Create and visualize a graphene pore using the recipe above, feel free to change up some of the parameters and see its effects on the final system.\n",
    "2. Create and visualize a solvent of choice with mbuild using SMILES string\n",
    "    - Tips: Google molecule name + SMILES usually return the input you need\n",
    "    - Bonus: Load a molecule from a pdb file (there is a few exist at ...)\n",
    "3. mBuid also supports loading a molecule/system from various file format\n",
    "    - Try using the `mb.load(file_path)` to create a and visualize system\n",
    "    - A list of sample pdb can be found at `f\"{PATH}/pdb_lib/\"` "
   ]
  },
  {
   "cell_type": "code",
   "execution_count": null,
   "id": "187aa5b3-a117-42cd-ba7f-327dbc6fb166",
   "metadata": {},
   "outputs": [],
   "source": [
    "# Exercise 1a.1"
   ]
  },
  {
   "cell_type": "code",
   "execution_count": null,
   "id": "b41d0a37-b8b9-46d8-a3b6-7f7d59dd9d58",
   "metadata": {},
   "outputs": [],
   "source": [
    "# Exercise 1a.2"
   ]
  },
  {
   "cell_type": "code",
   "execution_count": null,
   "id": "2ab90af9-75b0-4f60-8cb3-d5acf5ef8913",
   "metadata": {},
   "outputs": [],
   "source": [
    "# Exercise 1a.3 "
   ]
  },
  {
   "cell_type": "markdown",
   "id": "67eadc07-72f5-41a4-ab07-22a4f13de1cc",
   "metadata": {},
   "source": [
    "### Exercise 1b - Fill box and solvate (ET: 20 mins)\n",
    "- mBuild utilize PACKMOL as the backend to perform packing molecules, solvating a solute. These functionalities are stored under `mbuild.packing`, with the two most frequently used methods being `packing.fill_box` and `packing.solvate`\n",
    "1. Create a packed box of ethanol following the procedure\n",
    "    * Create an ethanol molecule using SMILES string\n",
    "    * Pack a box of ethanol using the `packing.fill_box`\n",
    "    * Visualize the packed box\n",
    "2. Solvate a protein with water \n",
    "    * Select a protein from one of these files here `f\"{PATH}/sample_pdb\"`\n",
    "    * Create a water molecule using SMILES string \n",
    "    * Solvate the protein with the water"
   ]
  },
  {
   "cell_type": "code",
   "execution_count": null,
   "id": "91da9df1-86ea-4951-a084-a49248ff3e7e",
   "metadata": {},
   "outputs": [],
   "source": [
    "# Exercise 1b.1"
   ]
  },
  {
   "cell_type": "code",
   "execution_count": null,
   "id": "826757d2-134f-456e-8f19-30929863e54b",
   "metadata": {},
   "outputs": [],
   "source": [
    "# Exercise 1b.2"
   ]
  },
  {
   "cell_type": "markdown",
   "id": "a42c8d9d-7c69-4bac-9712-97f19573339d",
   "metadata": {
    "tags": []
   },
   "source": [
    "## __2. Loading Forcefield__\n",
    "\n",
    "- In the MoSDeF ecosystem, we stored forcefield is stored in XML format, which contains information about version, combining rule, atom types, connection types and associated doi. Each atom type also includes a `def`, which stores the SMARTS definition, and `doi`, which store the original paper that the parameters are sourced from.\n",
    "- Currently, there are two XML formats supported by MoSDeF tools, one of which is an extended version of OpenMM XML, while the other is newly developed to include more information that include additional information that we believe would be beneficial for performing TRUE research."
   ]
  },
  {
   "cell_type": "code",
   "execution_count": null,
   "id": "fc13ecc1-783e-4924-b543-2489ae49547a",
   "metadata": {},
   "outputs": [],
   "source": [
    "import forcefield_utilities as ffutils"
   ]
  },
  {
   "cell_type": "code",
   "execution_count": null,
   "id": "db04ae9e-e317-4ceb-a161-52e82d67cdba",
   "metadata": {
    "tags": []
   },
   "outputs": [],
   "source": [
    "carbon_forcefield = gmso.ForceField(f\"{PATH}/forcefields/carbon.xml\")\n",
    "carbon_forcefield"
   ]
  },
  {
   "cell_type": "code",
   "execution_count": null,
   "id": "25f98900-15d5-408b-befe-7e310ddea8c0",
   "metadata": {},
   "outputs": [],
   "source": [
    "\"\"\"Basic attributes of each atom type\"\"\"\n",
    "for name, atype in carbon_forcefield.atom_types.items():\n",
    "    print(atype)\n",
    "    print(\"SMARTS definition:\", atype.definition)\n",
    "    print(\"Potential expression\")\n",
    "    display(atype.expression)\n",
    "    print(atype.parameters)"
   ]
  },
  {
   "cell_type": "code",
   "execution_count": null,
   "id": "b354d174-9368-4c14-995b-b14d3d9da623",
   "metadata": {},
   "outputs": [],
   "source": [
    "spce_forcefield = gmso.ForceField(f\"{PATH}/forcefields/spce.xml\")\n",
    "spce_forcefield"
   ]
  },
  {
   "cell_type": "code",
   "execution_count": null,
   "id": "42607306-c419-4c9c-8f1f-97ce8a6681fc",
   "metadata": {},
   "outputs": [],
   "source": [
    "\"\"\"Basic attributes of each connection type\"\"\"\n",
    "for name, btype in spce_forcefield.bond_types.items():\n",
    "    print(btype)\n",
    "    print(\"Potential expression\")\n",
    "    display(btype.expression)\n",
    "    print(btype.parameters)"
   ]
  },
  {
   "cell_type": "markdown",
   "id": "b0e1fb98-446b-4929-aaaa-5251df68e057",
   "metadata": {},
   "source": [
    "### Exercise 2 - Load a force field and inspect some of its attributes (ET: 10mins)\n",
    "1. Load the \"OPLS\" forcefield at `f\"{PATH}/forcefields/oplsaa.xml\"` to an object named `oplsaa` \n",
    "2. Inspect the forcefield \n",
    "    - Try calling `oplsaa.__dict__` and see all attributes that a force field has\n",
    "    - What is the comining rule and scaling factor of this forcefield\n",
    "3. Inspect some attributes of an atomtype \n",
    "    - Inspect the potential expression \n",
    "    - Notable attributes"
   ]
  },
  {
   "cell_type": "code",
   "execution_count": null,
   "id": "8208fc16-bd99-4583-9971-8ce084b2cbfe",
   "metadata": {},
   "outputs": [],
   "source": [
    "# Start your exercise here"
   ]
  },
  {
   "cell_type": "markdown",
   "id": "7af0eef6-6e60-4448-bb20-025bff8f6609",
   "metadata": {
    "tags": []
   },
   "source": [
    "## __3. Parameterization__\n",
    "- MoSDeF's backend data structure supports automatic atom typing and parameterization (mapping atom types and connection types stored in a loaded forcefield to a GMSO structure).\n",
    "- This is done internally using Foyer, which performs graph matching between the molecule bond graph (of the GMSO Topology object) to the atom type SMARTS string. The algorithm for the processed is outlined in this [paper](https://www.journals.elsevier.com/computational-materials-science).\n",
    "- The parameterization step created a typed Topology, which would be ready to be saved out to various file formats, ready to be taken in by corresponding simulation codes."
   ]
  },
  {
   "cell_type": "code",
   "execution_count": null,
   "id": "dd3b0481-ff0b-4c0f-bc8e-8d36aff83b98",
   "metadata": {
    "tags": []
   },
   "outputs": [],
   "source": [
    "from gmso.parameterization import apply\n",
    "\n",
    "graphene_top = graphene.to_gmso()\n",
    "water_top = water_box.to_gmso()\n",
    "graphene_ptop = apply(graphene_top, carbon_forcefield)\n",
    "water_ptop = apply(water_top, spce_forcefield)"
   ]
  },
  {
   "cell_type": "code",
   "execution_count": null,
   "id": "ee5bf9b9-07cb-4500-997c-528399596366",
   "metadata": {},
   "outputs": [],
   "source": [
    "# Iterable attributes\n",
    "# graphene_top.sites\n",
    "# graphene_top.bonds\n",
    "# graphene_top.angles\n",
    "# graphene_top.dihedrals\n",
    "# graphene_top.impropers\n",
    "\n",
    "display(graphene_ptop.sites[0].atom_type.expression)\n",
    "print(f\"{graphene_ptop.sites[0].atom_type.parameters}\")"
   ]
  },
  {
   "cell_type": "code",
   "execution_count": null,
   "id": "ea4e9d96-eda9-4a14-863b-bc207c3eef7f",
   "metadata": {},
   "outputs": [],
   "source": [
    "\"\"\"Utility to output system as Dataframe\"\"\"\n",
    "water_ptop.to_dataframe(site_attrs=[\"atom_type.parameters\"])"
   ]
  },
  {
   "cell_type": "code",
   "execution_count": null,
   "id": "b86e2c48-556b-4a02-b650-da96802f65e3",
   "metadata": {},
   "outputs": [],
   "source": [
    "\"\"\"Utility to output system as Dataframe\"\"\"\n",
    "graphene_ptop.to_dataframe(site_attrs=[\"atom_type.parameters\"])\n",
    "# TODO: only print unique parameters here"
   ]
  },
  {
   "cell_type": "markdown",
   "id": "43f228fd-b222-4a0b-b519-ab9e584c42a1",
   "metadata": {},
   "source": [
    "### Exercise 3 - Parametrized your solvent (ET: 10 mins)\n",
    "1. Use the OPLS to try parameterize the molecule you created in the above exercise (it's may or may not be successful depends on how exotic the molecule you created)\n",
    "    - Summarize the all the atomtypes in a dataframe \n",
    "2. Open the docstring for Topology.to_dataframe\n",
    "    - See what you can modify the output of the dataframe to get the information you need.\n",
    "    "
   ]
  },
  {
   "cell_type": "code",
   "execution_count": null,
   "id": "246b20aa-d0b2-4938-9f2f-da991a5f8117",
   "metadata": {},
   "outputs": [],
   "source": [
    "### Start your exercise here"
   ]
  },
  {
   "cell_type": "markdown",
   "id": "114d292e-a0af-477e-8d91-68b300253c57",
   "metadata": {
    "tags": []
   },
   "source": [
    "## __4. Saving out to Cassandra files__\n",
    "- The GMSO data structure provide direct support to multiple simulation engines, including GROMACS, LAMMPS, HOOMD-blue, GOMC and Cassandra. This includes the ability to directly save the typed Topology to molecular file input which can be used directly by the corresponding engines.\n",
    "- In this example, we are writing out the file into Cassandra file format (`.mcf`)."
   ]
  },
  {
   "cell_type": "code",
   "execution_count": null,
   "id": "a591f8e6-a2c2-4734-bd06-447bc64fa826",
   "metadata": {},
   "outputs": [],
   "source": [
    "# Saving out file and inspect the output"
   ]
  },
  {
   "cell_type": "markdown",
   "id": "d7d1dbb2-2282-4eac-be45-da723c9101c9",
   "metadata": {},
   "source": [
    "## __5. Set up Cassandra input file and run simulation (Optional)__\n",
    "- Colab with groups to create automated input file generator\n",
    "- Using `mosdef_cassandra`, mention `mosdef_gomc`"
   ]
  },
  {
   "cell_type": "code",
   "execution_count": null,
   "id": "31670471-7e18-4295-9770-dde512655168",
   "metadata": {},
   "outputs": [],
   "source": [
    "import mosdef_cassandra as mc\n",
    "import unyt as u\n"
   ]
  },
  {
   "cell_type": "code",
   "execution_count": null,
   "id": "baa21eb4-9162-44a6-96d1-c9717f756b05",
   "metadata": {},
   "outputs": [],
   "source": [
    "# This is pending rewritten with the new mcf PR\n",
    "\n",
    "import mosdef_cassandra as mc\n",
    "import unyt as u\n",
    "\n",
    "# set variables\n",
    "n_steps = 1000\n",
    "temperature = 300 # K\n",
    "mu = -54.0 # u.kJ / u.mol,\n",
    "\n",
    "# Create box and species list\n",
    "box_list = [empty_pore]\n",
    "species_list = [typed_pore, typed_water]\n",
    "\n",
    "# Specify mols at start of the simulation\n",
    "mols_in_boxes = [[1, 0]]\n",
    "\n",
    "# Create MC system\n",
    "system = mc.System(box_list, species_list, mols_in_boxes=mols_in_boxes)\n",
    "moves = mc.MoveSet(\"gcmc\", species_list)\n",
    "\n",
    "# Set move probabilities\n",
    "moves.prob_translate = 0.25\n",
    "moves.prob_rotate = 0.25\n",
    "moves.prob_insert = 0.25\n",
    "moves.prob_regrow = 0.0\n",
    "\n",
    "# Specify the restricted insertion\n",
    "restricted_type = [[None, \"slitpore\"]]\n",
    "restricted_value = [[None, 0.5 * pore_width ]]\n",
    "moves.add_restricted_insertions(\n",
    "    species_list, restricted_type, restricted_value\n",
    ")\n",
    "\n",
    "# Set thermodynamic properties\n",
    "thermo_props = [\n",
    "    \"energy_total\",\n",
    "    \"energy_intervdw\",\n",
    "    \"energy_interq\",\n",
    "    \"nmols\",\n",
    "]\n",
    "\n",
    "default_args = {\n",
    "    \"run_name\" : \"gcmc\",\n",
    "    \"cutoff_style\": \"cut\",\n",
    "    \"charge_style\": \"ewald\",\n",
    "    \"rcut_min\": 0.5 * u.angstrom,\n",
    "    \"vdw_cutoff\": 9.0 * u.angstrom,\n",
    "    \"charge_cutoff\": 9.0 * u.angstrom,\n",
    "    \"properties\": thermo_props,\n",
    "    \"angle_style\": [\"harmonic\", \"fixed\"],\n",
    "    \"coord_freq\": 100000,\n",
    "    \"prop_freq\": 1000,\n",
    "}\n",
    "\n",
    "custom_args = { **default_args, **custom_args}\n",
    "\n",
    "mc.run(\n",
    "    system=system,\n",
    "    moveset=moves,\n",
    "    run_type=\"equilibration\",\n",
    "    run_length=nsteps,\n",
    "    temperature=temperature,\n",
    "    chemical_potentials=[\"none\", mu],\n",
    "    **custom_args,\n",
    ")"
   ]
  },
  {
   "cell_type": "code",
   "execution_count": null,
   "id": "b32fdac7-7c69-4660-847f-ec3e87001345",
   "metadata": {},
   "outputs": [],
   "source": []
  }
 ],
 "metadata": {
  "kernelspec": {
   "display_name": "Python 3 (ipykernel)",
   "language": "python",
   "name": "python3"
  },
  "language_info": {
   "codemirror_mode": {
    "name": "ipython",
    "version": 3
   },
   "file_extension": ".py",
   "mimetype": "text/x-python",
   "name": "python",
   "nbconvert_exporter": "python",
   "pygments_lexer": "ipython3",
   "version": "3.10.11"
  }
 },
 "nbformat": 4,
 "nbformat_minor": 5
}
