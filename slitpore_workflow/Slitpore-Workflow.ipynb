{
 "cells": [
  {
   "cell_type": "markdown",
   "id": "1bfc81ba",
   "metadata": {},
   "source": [
    "<a href=\"https://colab.research.google.com/github/mosdef-hub/CECAM-MoSDeF-Workshop/blob/main/slitpore_workflow/Slitpore-Workflow.ipynb\" target=\"_parent\"><img src=\"https://colab.research.google.com/assets/colab-badge.svg\" alt=\"Open In Colab\"/></a>"
   ]
  },
  {
   "cell_type": "markdown",
   "id": "de6a6209",
   "metadata": {},
   "source": [
    "# **Carbon Slitpore Workflow**\n",
    "---\n",
    "## Summary \n",
    "\"Porous  carbon  materials  are  used  for  separation, purification, and catalysis purposes. While the adsorption and phase behavior of nonpolar fluids in carbon pores has  been  studied  extensively,our  understanding  regarding adsorption of water in carbonaceous materials is still rudimentary. Nevertheless, the structure and the thermodynamic  properties  of  water  confined  in  hydrophobic  regions  are  of  importance  in  many  scientific disciplines such as chemistry, geology, nanotechnology, and biology. Water adsorption in hydrophobic materials is typically characterized by negligible adsorption at low relative pressures, sudden and complete pore filling by a capillary-condensation mechanism, and large adsorption/ desorption hysteresis loops.\"\n",
    "\n",
    "    - Striolo, A.; Chialvo, A. A.; Cummings, P. T.; Gubbins, K. E. Water Adsorption in Carbon-Slit Nanopores. Langmuir, 2003, 19 (20), 8583–8591.\n",
    "\n",
    "The above study was recreated in 2020 in a work by Cummings et al. using open-source moleuclar modeling software with focus on the Molecular Simulation Design Framework (MoSDeF).\n",
    "\n",
    "    - Peter Cummings, Clare McCabe, Christopher Iacovella, et al. Open-Source Molecular Modeling Software in Chemical Engineering Focusing on the Molecular Simulation Design Framework. Authorea. November 30, 2020.\n",
    "\n",
    "\n",
    "## Learning Objectives\n",
    "This notebook provides interactivre examples that will assist learners in using MoSDeF tools to:\n",
    "- Create a molecule in different method using `mBuild`\n",
    "- Load in a force field fromr XML and inspect the ForceField object with `GMSO`\n",
    "- Parameterize a system with a force field and inspect the parameterized object\n",
    "- Save out the topology and use it to run a Cassandra MC simulation using `mosdef_cassandra`\n",
    "\n",
    "## Tutorial Contents\n",
    "0. Set up environment on Google Colab\n",
    "1. Construct System with mBuild\n",
    "    1. Exercise 1a - Create a molecule with mbuild\n",
    "    2. Exercise 1b - Pack a box of solvent\n",
    "2. Load a ForceField\n",
    "    1. Exercise 2 - Load and inspect a force field from XML\n",
    "3. Parameterization\n",
    "    1. Exercise 3 - Parameterize a compound/topology and summarize the parameterized object\n",
    "4. Save out to Cassandra files\n",
    "    1. Exercise 4 - Save a `.mcf` file from a typed Topology\n",
    "5. Set up Cassandra input file and run simulation (optional)\n",
    "## Software stack setup\n",
    "After running the cell below the kernel will restart -- This is necessary for conda dependencies, but you'll need to wait for that kernel restart before running the second cell.\n",
    "\n",
    "\n",
    "## Working with Google Colab\n",
    "There are two types of output in these Colab notebooks that can be a little tricky:\n",
    "\n",
    "1. If the output is very long, for example from the mamba command in the second cell, scrolling past the output can feel onerous. In this case, scrolling up and down in the narrow grey area between the sidebar menu and the cells can help you navigate.\n",
    "\n",
    "2. If the output is a visualization of a molecule or simulation configuration, scrolling up or down will zoom in or out if the cursor is over the visualization. In these cases, take some care to scroll outside of the visualization.\n",
    "\n",
    "3. To run a cell, either click the run button (right facing triangle) or hit `shift + enter`"
   ]
  },
  {
   "cell_type": "markdown",
   "id": "f98911a6-e61f-4bd9-a957-2e13bf16ee34",
   "metadata": {
    "tags": []
   },
   "source": [
    "## __0. Set up environment on Google Colab__\n",
    "----"
   ]
  },
  {
   "cell_type": "code",
   "execution_count": null,
   "id": "fd6483c2-1fc8-4ced-b6be-2e74f226e686",
   "metadata": {},
   "outputs": [],
   "source": [
    "# Note: Run this cell first and by itself. \n",
    "# The kernel will be restarted after this step \n",
    "# There might be an error pops up stating the session crashed\n",
    "# for an unknown reason, but that is expected. \n",
    "!pip install -q condacolab\n",
    "import condacolab\n",
    "condacolab.install()"
   ]
  },
  {
   "cell_type": "code",
   "execution_count": null,
   "id": "9ea069d6-6a30-4eec-a75b-c4595ed3462b",
   "metadata": {},
   "outputs": [],
   "source": [
    "import condacolab\n",
    "condacolab.check()\n",
    "\n",
    "!conda install mamba\n",
    "\n",
    "!mamba install anaconda-client -n base\n",
    "!git clone https://github.com/mosdef-hub/CECAM-MoSDeF-Workshop\n",
    "!mamba env update -n base -f CECAM-MoSDeF-Workshop/environment.yml"
   ]
  },
  {
   "cell_type": "markdown",
   "id": "0b076f73-c5b6-46b8-9f19-8a3b11c92276",
   "metadata": {
    "tags": []
   },
   "source": [
    "## __1. Construct System with mBuild__\n",
    "----\n",
    "- The chemical system can be constructied with mBuild, the hierarchical molecular constructor of the MoSDeF software suite. The library offers several way to load or create a chemical systems, e.g., loading from common file format such as .xyz, .mol2, .pdb, from a SMILES string, using internal recipes, or user-construct recipes.\n",
    "- Below, we demonstrate two methods of creating a molecule, i.e., using a SMILES string to create a water molecule, and using an user-recipe to build a carbon slitpore."
   ]
  },
  {
   "cell_type": "code",
   "execution_count": null,
   "id": "bece27de-1c13-42e3-940d-1668de1b1a2a",
   "metadata": {},
   "outputs": [],
   "source": [
    "%cd CECAM-MoSDeF-Workshop/slitpore_workflow"
   ]
  },
  {
   "cell_type": "code",
   "execution_count": null,
   "id": "e066e5a7-c54b-491a-97e3-abaa3c7f0638",
   "metadata": {},
   "outputs": [],
   "source": [
    "import warnings \n",
    "warnings.filterwarnings(\"ignore\")\n",
    "\n",
    "# Import Libraries\n",
    "import os\n",
    "import mbuild as mb\n",
    "import gmso\n",
    "from porebuilder import GraphenePore"
   ]
  },
  {
   "cell_type": "code",
   "execution_count": null,
   "id": "f6677370-c231-4b4b-8787-d66ebefab4fc",
   "metadata": {},
   "outputs": [],
   "source": [
    "# load molecules from their daylight SMILES string \n",
    "# https://www.daylight.com/dayhtml/doc/theory/theory.smiles.html\n",
    "water = mb.load(\"O\", smiles=True) \n",
    "water_box = mb.fill_box(water, box=[5,5,5], n_compounds=100) #density specify\n",
    "\n",
    "\n",
    "\"\"\"Visualization utilities\"\"\"\n",
    "water.print_hierarchy()"
   ]
  },
  {
   "cell_type": "code",
   "execution_count": null,
   "id": "7189f997-851d-41fe-a515-e733b1301bdc",
   "metadata": {
    "collapsed": true,
    "jupyter": {
     "outputs_hidden": true
    },
    "tags": []
   },
   "outputs": [],
   "source": [
    "water.visualize() # visualize molecule atoms and bonds"
   ]
  },
  {
   "cell_type": "code",
   "execution_count": null,
   "id": "32509443-2776-454f-aae7-27665f25acc6",
   "metadata": {},
   "outputs": [],
   "source": [
    "# Load structure from recipes\n",
    "graphene = GraphenePore(pore_length=4,\n",
    "                        pore_depth=4,\n",
    "                        n_sheets=1,\n",
    "                        pore_width=1.2,\n",
    "                        slit_pore_dim=1)\n",
    "graphene.box = mb.Box([5, 5, 5])\n",
    "# Try changing the n_sheets to form more layers\n",
    "\"\"\"Visualization utility\"\"\" \n",
    "graphene.visualize()"
   ]
  },
  {
   "cell_type": "markdown",
   "id": "8b2dd888-67e6-4468-9c69-38d7f58ef5ff",
   "metadata": {},
   "source": [
    "### Exercise 1a - Create and visualize a system with mBuild (ET: 10 mins)\n",
    "1. Create and visualize a molecule of choice with mbuild using SMILES string\n",
    "    - Tips: Google molecule name + SMILES usually return the input you need\n",
    "    - Note: you will need to set the options `smiles=True` in `mb.load()`\n",
    "    - Tips: you can look at how we create the water molecule 2 cells\n",
    "1. mBuid also supports loading a molecule/system from various file format\n",
    "    - Download a pdb file from https://files.rcsb.org/view/1OIL.pdb using wget\n",
    "    - Load in the file and visualize with `mbuild`"
   ]
  },
  {
   "cell_type": "code",
   "execution_count": null,
   "id": "187aa5b3-a117-42cd-ba7f-327dbc6fb166",
   "metadata": {},
   "outputs": [],
   "source": [
    "# Exercise 1a.1\n",
    "compound = mb.???(???, smiles=???)\n",
    "compound.load()"
   ]
  },
  {
   "cell_type": "code",
   "execution_count": null,
   "id": "b41d0a37-b8b9-46d8-a3b6-7f7d59dd9d58",
   "metadata": {},
   "outputs": [],
   "source": [
    "# Exercise 1a.2\n",
    "!wget -O 1OIL.pdb https://files.rcsb.org/view/1OIL.pdb\n",
    "protein = mb.???(\"1OIL.pdb\")\n",
    "protein.???"
   ]
  },
  {
   "cell_type": "markdown",
   "id": "33487c90",
   "metadata": {
    "tags": []
   },
   "source": [
    "### <font color=\"red\"><b>Exercise 1a Example Answer</b></font>\n",
    "\n",
    "<details>\n",
    "    <summary>Click once on to hide/unhide the answer!</summary>\n",
    "    \n",
    "        # Loading from a SMILES string \n",
    "         \n",
    "        caffeine = mb.load(\"CN1C=NC2=C1C(=O)N(C(=O)N2C)C\", smiles=True)\n",
    "        caffeine.visualize()\n",
    "\n",
    "\n",
    "        # Loading from a pdb file\n",
    "    \n",
    "    \n",
    "        !wget -O 1OIL.pdb https://files.rcsb.org/view/1OIL.pdb\n",
    "        protein = mb.load(\"1OIL.pdb\")\n",
    "        protein.visualize()\n",
    "        \n",
    "</details>"
   ]
  },
  {
   "cell_type": "markdown",
   "id": "67eadc07-72f5-41a4-ab07-22a4f13de1cc",
   "metadata": {},
   "source": [
    "### Exercise 1b - Fill box and solvate (ET: 10 mins)\n",
    "- mBuild utilize PACKMOL as the backend to perform packing molecules, solvating a solute. These functionalities are stored under `mbuild.packing`, with the two most frequently used methods being `packing.fill_box` and `packing.solvate`. Here, we will test out the `fill_box` method.\n",
    "    - Create a packed box of ethanol following the procedure\n",
    "        * Create an ethanol molecule using SMILES string\n",
    "        * Pack a box of ethanol using the `packing.fill_box`, you will need to provide\n",
    "            * `compound`: The molecule that is to be packed (expecting type `mb.Compound`)\n",
    "            * `n_compounds`: The number of molecule (expecting type `int`)\n",
    "            * `box`: The size of the box (define in form of [x, y, z], in all in nm)\n",
    "        * Visualize the packed box"
   ]
  },
  {
   "cell_type": "code",
   "execution_count": null,
   "id": "91da9df1-86ea-4951-a084-a49248ff3e7e",
   "metadata": {},
   "outputs": [],
   "source": [
    "# Exercise 1b.1\n",
    "ethanol = mb.load(???, smiles=???)\n",
    "ethanol_box = mb.???(compound=???,\n",
    "                     n_compounds=???,\n",
    "                     box=???\n",
    "            )\n",
    "ethanol_box.visualize()"
   ]
  },
  {
   "cell_type": "markdown",
   "id": "fcf057b9",
   "metadata": {},
   "source": [
    "### <font color=\"red\"><b>Exercise 1b Example Answer</b></font>\n",
    "\n",
    "<details>\n",
    "    <summary>Click once on to hide/unhide the answer!</summary>\n",
    "    \n",
    "        ethanol = mb.load(\"CCO\", smiles=True)\n",
    "        ethanol_box = mb.fill_box(compound=ethanol,\n",
    "                                  n_compounds=200,\n",
    "                                  box=[3, 3, 3].\n",
    "                    )\n",
    "        ethanol_box.visualize()\n",
    "</details>"
   ]
  },
  {
   "cell_type": "markdown",
   "id": "a42c8d9d-7c69-4bac-9712-97f19573339d",
   "metadata": {
    "tags": []
   },
   "source": [
    "## __2. Load A ForceField__\n",
    "----\n",
    "\n",
    "- In the MoSDeF ecosystem, we stored forcefield is stored in XML format, which contains information about version, combining rule, atom types, connection types and associated doi. Each atom type also includes a `def`, which stores the SMARTS definition, and `doi`, which store the original paper that the parameters are sourced from.\n",
    "- Currently, there are two XML formats supported by MoSDeF tools, one of which is an extended version of OpenMM XML, while the other is newly developed to include more information that include additional information that we believe would be beneficial for performing TRUE research."
   ]
  },
  {
   "cell_type": "code",
   "execution_count": null,
   "id": "db04ae9e-e317-4ceb-a161-52e82d67cdba",
   "metadata": {
    "tags": []
   },
   "outputs": [],
   "source": [
    "carbon_forcefield = gmso.ForceField(\"../forcefields/carbon.xml\")\n",
    "carbon_forcefield"
   ]
  },
  {
   "cell_type": "code",
   "execution_count": null,
   "id": "25f98900-15d5-408b-befe-7e310ddea8c0",
   "metadata": {},
   "outputs": [],
   "source": [
    "\"\"\"Basic attributes of each atom type\"\"\"\n",
    "for name, atype in carbon_forcefield.atom_types.items():\n",
    "    print(atype)\n",
    "    print(\"SMARTS definition:\", atype.definition)\n",
    "    print(\"Potential expression\")\n",
    "    display(atype.expression)\n",
    "    print(atype.parameters)"
   ]
  },
  {
   "cell_type": "code",
   "execution_count": null,
   "id": "b354d174-9368-4c14-995b-b14d3d9da623",
   "metadata": {},
   "outputs": [],
   "source": [
    "spce_forcefield = gmso.ForceField(\"../forcefields/spce.xml\")\n",
    "spce_forcefield"
   ]
  },
  {
   "cell_type": "code",
   "execution_count": null,
   "id": "42607306-c419-4c9c-8f1f-97ce8a6681fc",
   "metadata": {},
   "outputs": [],
   "source": [
    "\"\"\"Basic attributes of each connection type\"\"\"\n",
    "for name, btype in spce_forcefield.bond_types.items():\n",
    "    print(btype)\n",
    "    print(\"Potential expression\")\n",
    "    display(btype.expression)\n",
    "    print(btype.parameters)"
   ]
  },
  {
   "cell_type": "markdown",
   "id": "b0e1fb98-446b-4929-aaaa-5251df68e057",
   "metadata": {},
   "source": [
    "### Exercise 2 - Load a force field and inspect some of its attributes (ET: 10mins)\n",
    "1. Load the \"OPLS\" forcefield at `\"../forcefields/oplsaa.xml\"` to an object named `oplsaa` \n",
    "2. Inspect the forcefield \n",
    "    - Try calling `oplsaa.__dict__` and see all attributes that a force field has\n",
    "    - What is the comining rule and scaling factor of this forcefield\n",
    "3. Inspect some attributes of an atomtype \n",
    "    - Inspect the potential expression \n",
    "    - Notable attributes"
   ]
  },
  {
   "cell_type": "code",
   "execution_count": null,
   "id": "8208fc16-bd99-4583-9971-8ce084b2cbfe",
   "metadata": {},
   "outputs": [],
   "source": [
    "# Start your exercise here\n",
    "oplsaa = gmso.???()"
   ]
  },
  {
   "cell_type": "markdown",
   "id": "e4301d71",
   "metadata": {},
   "source": [
    "### <font color=\"red\"><b>Exercise 2 Example Answer</b></font>\n",
    "\n",
    "<details>\n",
    "    <summary>Click once on to hide/unhide the answer!</summary>\n",
    "    \n",
    "        oplsaa = gmso.ForceField(\"../forcefields/oplsaa.xml\")\n",
    "        print(oplsaa.__dict__)\n",
    "</details>"
   ]
  },
  {
   "cell_type": "markdown",
   "id": "7af0eef6-6e60-4448-bb20-025bff8f6609",
   "metadata": {
    "tags": []
   },
   "source": [
    "## __3. Parameterization__\n",
    "----\n",
    "- MoSDeF's backend data structure supports automatic atom typing and parameterization (mapping atom types and connection types stored in a loaded forcefield to a GMSO structure).\n",
    "- This is done internally using Foyer, which performs graph matching between the molecule bond graph (of the GMSO Topology object) to the atom type SMARTS string. The algorithm for the processed is outlined in this [paper](https://www.journals.elsevier.com/computational-materials-science).\n",
    "- The parameterization step created a typed Topology, which would be ready to be saved out to various file formats, ready to be taken in by corresponding simulation codes."
   ]
  },
  {
   "cell_type": "code",
   "execution_count": null,
   "id": "dd3b0481-ff0b-4c0f-bc8e-8d36aff83b98",
   "metadata": {
    "tags": []
   },
   "outputs": [],
   "source": [
    "from gmso.parameterization import apply\n",
    "\n",
    "graphene_top = graphene.to_gmso()\n",
    "single_water_top = water.to_gmso()\n",
    "water_top = water_box.to_gmso()\n",
    "graphene_ptop = apply(graphene_top, carbon_forcefield, identify_connections=True)\n",
    "single_water_ptop = apply(single_water_top, spce_forcefield, identify_connections=True)\n",
    "water_ptop = apply(water_top, spce_forcefield, identify_connections=True)"
   ]
  },
  {
   "cell_type": "code",
   "execution_count": null,
   "id": "ee5bf9b9-07cb-4500-997c-528399596366",
   "metadata": {},
   "outputs": [],
   "source": [
    "# Iterable attributes\n",
    "# graphene_top.sites\n",
    "# graphene_top.bonds\n",
    "# graphene_top.angles\n",
    "# graphene_top.dihedrals\n",
    "# graphene_top.impropers\n",
    "\n",
    "display(graphene_ptop.sites[0].atom_type.expression)\n",
    "print(f\"{graphene_ptop.sites[0].atom_type.parameters}\")"
   ]
  },
  {
   "cell_type": "code",
   "execution_count": null,
   "id": "ea4e9d96-eda9-4a14-863b-bc207c3eef7f",
   "metadata": {},
   "outputs": [],
   "source": [
    "\"\"\"Utility to output system as Dataframe\"\"\"\n",
    "water_ptop.to_dataframe(site_attrs=[\"atom_type.parameters\"])"
   ]
  },
  {
   "cell_type": "code",
   "execution_count": null,
   "id": "b86e2c48-556b-4a02-b650-da96802f65e3",
   "metadata": {},
   "outputs": [],
   "source": [
    "\"\"\"Utility to output system as Dataframe\"\"\"\n",
    "graphene_ptop.to_dataframe(site_attrs=[\"atom_type.parameters\"])"
   ]
  },
  {
   "cell_type": "markdown",
   "id": "43f228fd-b222-4a0b-b519-ab9e584c42a1",
   "metadata": {},
   "source": [
    "### Exercise 3 - Parametrized your solvent (ET: 10 mins)\n",
    "1. Use the OPLS to try parameterize the molecule you created in the above exercise (it's may or may not be successful depends on how exotic the molecule you created)\n",
    "    - Start by converting your compound to a GMSO `Topology`\n",
    "    - Use the `apply` method to perform the parameterization.\n",
    "    - Summarize the all the atomtypes in a dataframe \n",
    "2. Open the docstring for `Topology.to_dataframe`\n",
    "    - See what you can modify the output of the dataframe to get the information you need.\n",
    "    "
   ]
  },
  {
   "cell_type": "code",
   "execution_count": null,
   "id": "246b20aa-d0b2-4938-9f2f-da991a5f8117",
   "metadata": {},
   "outputs": [],
   "source": [
    "### Start your exercise here\n",
    "topology = compound.to_gmso()\n",
    "apply(???, \n",
    "      ???,\n",
    "      identify_connection=True)\n",
    "\n",
    "topology.???(site_attrs=[\"atom_type.parameters\"])"
   ]
  },
  {
   "cell_type": "markdown",
   "id": "14e3ed1f",
   "metadata": {},
   "source": [
    "### <font color=\"red\"><b>Exercise 3 Example Answer</b></font>\n",
    "\n",
    "<details>\n",
    "    <summary>Click once on to hide/unhide the answer!</summary>\n",
    "    \n",
    "        # Parameterize the created compound with the OPLS-AA force field\n",
    "\n",
    "        topology = compound.to_gmso()\n",
    "        apply(topology, \n",
    "              oplsaa,\n",
    "             identify_connection=True)\n",
    "\n",
    "        topology.to_dataframe(site_attrs=[\"atom_type.parameters\"])\n",
    "\n",
    "        # Print out the docstring of Topology.to_dataframe\n",
    "        help(Topology.to_dataframe) # Run this is a new cell\n",
    "\n",
    "</details>"
   ]
  },
  {
   "cell_type": "markdown",
   "id": "114d292e-a0af-477e-8d91-68b300253c57",
   "metadata": {
    "tags": []
   },
   "source": [
    "## __4. Save out to Cassandra files__\n",
    "----\n",
    "- The GMSO data structure provide direct support to multiple simulation engines, including GROMACS, LAMMPS, HOOMD-blue, GOMC and Cassandra. This includes the ability to directly save the typed Topology to molecular file input which can be used directly by the corresponding engines.\n",
    "- In this example, we are writing out the file into Cassandra file format (`.mcf` or molecular connectivity file)."
   ]
  },
  {
   "cell_type": "code",
   "execution_count": null,
   "id": "a591f8e6-a2c2-4734-bd06-447bc64fa826",
   "metadata": {},
   "outputs": [],
   "source": [
    "# Saving out file and inspect the output\n",
    "graphene_ptop.save(\"graphene.mcf\", overwrite=True)\n",
    "!cat graphene.mcf"
   ]
  },
  {
   "cell_type": "markdown",
   "id": "345b5059",
   "metadata": {},
   "source": [
    "### Exercise 4 - Save out the parameterized Water (ET: 5 mins)\n",
    "Use similar syntax as above, save out the `.mcf` for the parameterized water (the `water_ptop` object created above) and print out the file (using `!cat`)\n",
    "    "
   ]
  },
  {
   "cell_type": "code",
   "execution_count": null,
   "id": "fbc9eab0",
   "metadata": {},
   "outputs": [],
   "source": [
    "### Start your exercise here\n",
    "water_ptop.???(???, overwrite=???)\n",
    "!cat ???"
   ]
  },
  {
   "cell_type": "markdown",
   "id": "c8f3cde2",
   "metadata": {},
   "source": [
    "### <font color=\"red\"><b>Exercise 4 Example Answer</b></font>\n",
    "\n",
    "<details>\n",
    "    <summary>Click once on to hide/unhide the answer!</summary>\n",
    "    \n",
    "        water_ptop.save(\"water.mcf\", overwrite=True)\n",
    "        !cat water.mcf\n",
    "\n",
    "</details>"
   ]
  },
  {
   "cell_type": "markdown",
   "id": "d7d1dbb2-2282-4eac-be45-da723c9101c9",
   "metadata": {},
   "source": [
    "## __5. Set up Cassandra input file and run simulation (Optional)__\n",
    "----\n",
    "- In this step, we will attempt to use `mosdef_cassandra`, developed by Ryan DeFever et al., from the Maginn Group. The library provide utility to interface between MoSDeF core software stack to Cassandra. The library also provides a Python interface to define run-time parameters for the Monte Carlo simulation. Both `mosdef_cassandra` and `Cassandra` are installable through the `conda-forge` channel (for Linux and MacOS with Intel architecture).\n",
    "- Here, we will run a short equilibration simulation just to demonstrate that we are able to write out are syntactically correct and are ready to be used as input for simulation engine. For the complete workflow, please refer to the original paper and its supplementa Github repository:\n",
    "    - Peter Cummings, Clare McCabe, Christopher Iacovella, et al. Open-Source Molecular Modeling Software in Chemical Engineering Focusing on the Molecular Simulation Design Framework. Authorea. November 30, 2020.\n",
    "    - https://github.com/mosdef-hub/mosdef_slitpore "
   ]
  },
  {
   "cell_type": "code",
   "execution_count": null,
   "id": "baa21eb4-9162-44a6-96d1-c9717f756b05",
   "metadata": {},
   "outputs": [],
   "source": [
    "import mosdef_cassandra as mc\n",
    "from gmso.external import to_parmed\n",
    "import unyt as u\n",
    "\n",
    "# set variables\n",
    "n_steps = 1000\n",
    "temperature = 300 * u.K\n",
    "mu = -54.0 * u.kJ / u.mol\n",
    "\n",
    "# Create box and species list\n",
    "box_list = [graphene]\n",
    "species_list = [graphene_ptop.to_parmed(), \n",
    "                single_water_ptop.to_parmed()]\n",
    "\n",
    "# Specify mols at start of the simulation\n",
    "mols_in_boxes = [[1, 0]]\n",
    "\n",
    "# Create MC system\n",
    "system = mc.System(box_list, species_list, mols_in_boxes=mols_in_boxes)\n",
    "moves = mc.MoveSet(\"gcmc\", species_list)\n",
    "\n",
    "# Set move probabilities\n",
    "moves.prob_translate = 0.25\n",
    "moves.prob_rotate = 0.25\n",
    "moves.prob_insert = 0.25\n",
    "moves.prob_regrow = 0.0\n",
    "\n",
    "# Specify the restricted insertion\n",
    "restricted_type = [[None, \"slitpore\"]]\n",
    "restricted_value = [[None, 0.5 * 1.2 * u.nm]]\n",
    "moves.add_restricted_insertions(\n",
    "    species_list, restricted_type, restricted_value\n",
    ")\n",
    "\n",
    "# Set thermodynamic properties\n",
    "thermo_props = [\n",
    "    \"energy_total\",\n",
    "    \"energy_intervdw\",\n",
    "    \"energy_interq\",\n",
    "    \"nmols\",\n",
    "]\n",
    "\n",
    "default_args = {\n",
    "    \"run_name\" : \"gcmc\",\n",
    "    \"cutoff_style\": \"cut\",\n",
    "    \"charge_style\": \"ewald\",\n",
    "    \"rcut_min\": 0.5 * u.angstrom,\n",
    "    \"vdw_cutoff\": 9.0 * u.angstrom,\n",
    "    \"charge_cutoff\": 9.0 * u.angstrom,\n",
    "    \"properties\": thermo_props,\n",
    "    \"angle_style\": [\"harmonic\", \"fixed\"],\n",
    "    \"coord_freq\": 100000,\n",
    "    \"prop_freq\": 1000,\n",
    "}\n",
    "\n",
    "custom_args = {**default_args}\n",
    "\n",
    "mc.run(\n",
    "    system=system,\n",
    "    moveset=moves,\n",
    "    run_type=\"equilibration\",\n",
    "    run_length=n_steps,\n",
    "    temperature=temperature,\n",
    "    chemical_potentials=[\"none\", mu],\n",
    "    **custom_args,\n",
    ")"
   ]
  }
 ],
 "metadata": {
  "kernelspec": {
   "display_name": "Python 3 (ipykernel)",
   "language": "python",
   "name": "python3"
  },
  "language_info": {
   "codemirror_mode": {
    "name": "ipython",
    "version": 3
   },
   "file_extension": ".py",
   "mimetype": "text/x-python",
   "name": "python",
   "nbconvert_exporter": "python",
   "pygments_lexer": "ipython3",
   "version": "3.10.11"
  }
 },
 "nbformat": 4,
 "nbformat_minor": 5
}
