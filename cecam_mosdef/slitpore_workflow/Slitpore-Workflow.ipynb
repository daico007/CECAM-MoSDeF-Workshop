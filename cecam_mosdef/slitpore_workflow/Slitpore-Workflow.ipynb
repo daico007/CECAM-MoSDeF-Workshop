{
 "cells": [
  {
   "cell_type": "markdown",
   "id": "f98911a6-e61f-4bd9-a957-2e13bf16ee34",
   "metadata": {
    "tags": []
   },
   "source": [
    "# 0. Set up environment on Google Colab"
   ]
  },
  {
   "cell_type": "code",
   "execution_count": null,
   "id": "fd6483c2-1fc8-4ced-b6be-2e74f226e686",
   "metadata": {},
   "outputs": [],
   "source": [
    "!pip install -q condacolab\n",
    "import condacolab\n",
    "condacolab.install_miniforge()"
   ]
  },
  {
   "cell_type": "code",
   "execution_count": null,
   "id": "9ea069d6-6a30-4eec-a75b-c4595ed3462b",
   "metadata": {},
   "outputs": [],
   "source": [
    "import condacolab\n",
    "condacolab.check()\n",
    "\n",
    "!conda install mamba\n",
    "\n",
    "!mamba install anaconda-client -n base\n",
    "!git clone https://github.com/mosdef-hub/CECAM-MoSDeF-Workshop\n",
    "!mamba env update -n base -f CECAM-MoSDeF-Workshop/environment.yml\n",
    "!pip install -e CECAM-MoSDeF-Workshop"
   ]
  },
  {
   "cell_type": "markdown",
   "id": "c2480429-46f9-4e30-8ed2-07cfa6aae0d0",
   "metadata": {
    "tags": []
   },
   "source": [
    "# Carbon Slitpore Workflow\n",
    "- Striolo, A.; Chialvo, A. A.; Cummings, P. T.; Gubbins, K. E. Water Adsorption in Carbon-Slit Nanopores. Langmuir, 2003, 19 (20), 8583–8591.\n",
    "    - \"Porous  carbon  materials  are  used  for  separation, purification, and catalysis purposes. While the adsorption and phase behavior of nonpolar fluids in carbon pores has  been  studied  extensively,our  understanding  regarding adsorption of water in carbonaceous materials is still rudimentary. Nevertheless, the structure and the thermodynamic  properties  of  water  confined  in  hydrophobic  regions  are  of  importance  in  many  scientific disciplines such as chemistry, geology, nanotechnology, and biology. Water adsorption in hydrophobic materials is typically characterized by negligible adsorption at low relative pressures, sudden and complete pore filling by a capillary-condensation mechanism, and large adsorption/ desorption hysteresis loops.\"\n"
   ]
  },
  {
   "cell_type": "markdown",
   "id": "49749519-3957-4cb7-8794-30fe89736193",
   "metadata": {},
   "source": [
    "## Simulation Workflow\n",
    "- The above study was recreated in 2020 in a work by Cummings et al. using open-source moleuclar modeling software with focus on the Molecular Simulation Design Framework (MoSDeF).\n",
    "    - Peter Cummings, Clare McCabe, Christopher Iacovella, et al. Open-Source Molecular Modeling Software in Chemical Engineering Focusing on the Molecular Simulation Design Framework. Authorea. November 30, 2020."
   ]
  },
  {
   "cell_type": "markdown",
   "id": "0b076f73-c5b6-46b8-9f19-8a3b11c92276",
   "metadata": {
    "tags": []
   },
   "source": [
    "## __1. Construct System with mBuild__\n",
    "- The chemical system can be constructied with mBuild, the hierarchical molecular constructor of the MoSDeF software suite. The library offers several way to load or create a chemical systems, e.g., loading from common file format such as .xyz, .mol2, .pdb, from a SMILES string, using internal recipes, or user-construct recipes.\n",
    "- Below, we demonstrate two methods of creating a molecule, i.e., using a SMILES string to create a water molecule, and using an user-recipe to build a carbon slitpore."
   ]
  },
  {
   "cell_type": "code",
   "execution_count": 1,
   "id": "e066e5a7-c54b-491a-97e3-abaa3c7f0638",
   "metadata": {},
   "outputs": [
    {
     "name": "stderr",
     "output_type": "stream",
     "text": [
      "/Users/quachcd/Documents/dev/mosdef/mbuild/mbuild/recipes/__init__.py:13: DeprecationWarning: SelectableGroups dict interface is deprecated. Use select.\n",
      "  entry_points = metadata.entry_points()[\"mbuild.plugins\"]\n"
     ]
    }
   ],
   "source": [
    "import warnings \n",
    "warnings.filterwarnings(\"ignore\")\n",
    "# Import Libraries\n",
    "import mbuild as mb\n",
    "import gmso\n",
    "\n",
    "from cecam_mosdef.slitpore_workflow.porebuilder import GraphenePore, GrapheneSurface"
   ]
  },
  {
   "cell_type": "code",
   "execution_count": null,
   "id": "f6677370-c231-4b4b-8787-d66ebefab4fc",
   "metadata": {},
   "outputs": [],
   "source": [
    "# load molecules from their daylight SMILES string \n",
    "# https://www.daylight.com/dayhtml/doc/theory/theory.smiles.html\n",
    "water = mb.load(\"O\", smiles=True) \n",
    "water_box = mb.fill_box(water, box=[5,5,5], n_compounds=100) #density specify\n",
    "\n",
    "\n",
    "\"\"\"Visualization utilities\"\"\"\n",
    "water.print_hierarchy()\n",
    "\n",
    "water.visualize() # visualize molecule atoms and bonds"
   ]
  },
  {
   "cell_type": "code",
   "execution_count": null,
   "id": "32509443-2776-454f-aae7-27665f25acc6",
   "metadata": {},
   "outputs": [],
   "source": [
    "# Load structure from recipes\n",
    "graphene = GraphenePore(pore_length=4,\n",
    "                        pore_depth=4,\n",
    "                        n_sheets=2,\n",
    "                        pore_width=1.2,\n",
    "                        slit_pore_dim=1)\n",
    "# Try changing the n_sheets to form more layers\n",
    "\"\"\"Visualization utility\"\"\" \n",
    "graphene.print_hierarchy()\n",
    "\n",
    "graphene.visualize()"
   ]
  },
  {
   "cell_type": "markdown",
   "id": "8b2dd888-67e6-4468-9c69-38d7f58ef5ff",
   "metadata": {},
   "source": [
    "### Exercise 1 - Creating your own systems (ET: 10 mins)\n",
    "1. Create and visualize a graphene pore using the recipe above, feel free to change up some of the parameters and see its effects on the final system.\n",
    "2. Create and visualize a solvent of choice with mbuild using SMILES string\n",
    "    - Tips: Google molecule name + SMILES usually return the input you need\n",
    "    - Bonus: Load a molecule from a pdb file (there is a few exist at ...)"
   ]
  },
  {
   "cell_type": "code",
   "execution_count": 12,
   "id": "187aa5b3-a117-42cd-ba7f-327dbc6fb166",
   "metadata": {},
   "outputs": [],
   "source": [
    "# Start your exercise here"
   ]
  },
  {
   "cell_type": "markdown",
   "id": "a42c8d9d-7c69-4bac-9712-97f19573339d",
   "metadata": {
    "tags": []
   },
   "source": [
    "## __2. Loading Forcefield__\n",
    "\n",
    "- In the MoSDeF ecosystem, we stored forcefield is stored in XML format, which contains information about version, combining rule, atom types, connection types and associated doi. Each atom type also includes a `def`, which stores the SMARTS definition, and `doi`, which store the original paper that the parameters are sourced from.\n",
    "- Currently, there are two XML formats supported by MoSDeF tools, one of which is an extended version of OpenMM XML, while the other is newly developed to include more information that include additional information that we believe would be beneficial for performing TRUE research."
   ]
  },
  {
   "cell_type": "code",
   "execution_count": 4,
   "id": "fc13ecc1-783e-4924-b543-2489ae49547a",
   "metadata": {},
   "outputs": [],
   "source": [
    "import forcefield_utilities as ffutils"
   ]
  },
  {
   "cell_type": "code",
   "execution_count": 5,
   "id": "db04ae9e-e317-4ceb-a161-52e82d67cdba",
   "metadata": {
    "tags": []
   },
   "outputs": [
    {
     "data": {
      "text/plain": [
       "<ForceField Graphene,\n",
       " 1 AtomTypes,\n",
       " 0 BondTypes,\n",
       " 0 AngleTypes,\n",
       " 0 DihedralTypes,\n",
       " 0 ImproperType,\n",
       " 0 PairPotentialType,\n",
       " id: 6104351552>"
      ]
     },
     "execution_count": 5,
     "metadata": {},
     "output_type": "execute_result"
    }
   ],
   "source": [
    "carbon_forcefield = gmso.ForceField(\"../forcefields/carbon.xml\")\n",
    "carbon_forcefield"
   ]
  },
  {
   "cell_type": "code",
   "execution_count": null,
   "id": "25f98900-15d5-408b-befe-7e310ddea8c0",
   "metadata": {},
   "outputs": [],
   "source": [
    "\"\"\"Basic attributes of each atom type\"\"\"\n",
    "for name, atype in carbon_forcefield.atom_types.items():\n",
    "    print(atype)\n",
    "    print(\"SMARTS definition:\", atype.definition)\n",
    "    print(\"Potential expression\")\n",
    "    display(atype.expression)\n",
    "    print(atype.parameters)"
   ]
  },
  {
   "cell_type": "code",
   "execution_count": null,
   "id": "b354d174-9368-4c14-995b-b14d3d9da623",
   "metadata": {},
   "outputs": [],
   "source": [
    "spce_forcefield = gmso.ForceField(\"../forcefields/spce.xml\")\n",
    "spce_forcefield"
   ]
  },
  {
   "cell_type": "code",
   "execution_count": null,
   "id": "42607306-c419-4c9c-8f1f-97ce8a6681fc",
   "metadata": {},
   "outputs": [],
   "source": [
    "\"\"\"Basic attributes of each connection type\"\"\"\n",
    "for name, btype in spce_forcefield.bond_types.items():\n",
    "    print(btype)\n",
    "    print(\"Potential expression\")\n",
    "    display(btype.expression)\n",
    "    print(btype.parameters)"
   ]
  },
  {
   "cell_type": "markdown",
   "id": "b0e1fb98-446b-4929-aaaa-5251df68e057",
   "metadata": {},
   "source": [
    "### Exercise 2 - Load a force field and inspect some of its attributes (ET: 10mins)\n",
    "1. Load the \"OPLS\" forcefield at \"path\" to an object named `oplsaa` \n",
    "2. Inspect the forcefield \n",
    "    - Try calling `oplsaa.__dict__` and see all attributes that a force field has\n",
    "    - What is the comining rule and scaling factor of this forcefield\n",
    "3. Inspect some attributes of an atomtype \n",
    "    - Inspect the potential expression \n",
    "    - Notable attributes"
   ]
  },
  {
   "cell_type": "code",
   "execution_count": 11,
   "id": "8208fc16-bd99-4583-9971-8ce084b2cbfe",
   "metadata": {},
   "outputs": [],
   "source": [
    "# Start your exerise here"
   ]
  },
  {
   "cell_type": "markdown",
   "id": "7af0eef6-6e60-4448-bb20-025bff8f6609",
   "metadata": {
    "tags": []
   },
   "source": [
    "## __3. Parameterization__\n",
    "- MoSDeF's backend data structure supports automatic atom typing and parameterization (mapping atom types and connection types stored in a loaded forcefield to a GMSO structure).\n",
    "- This is done internally using Foyer, which performs graph matching between the molecule bond graph (of the GMSO Topology object) to the atom type SMARTS string. The algorithm for the processed is outlined here[FOYER PAPER LINK].\n",
    "- The parameterization step created a typed Topology, which would be ready to be saved out to various file formats, ready to be taken in by corresponding simulation codes."
   ]
  },
  {
   "cell_type": "code",
   "execution_count": null,
   "id": "dd3b0481-ff0b-4c0f-bc8e-8d36aff83b98",
   "metadata": {
    "tags": []
   },
   "outputs": [],
   "source": [
    "from gmso.parameterization import apply\n",
    "\n",
    "graphene_top = graphene.to_gmso()\n",
    "water_top = water_box.to_gmso()\n",
    "graphene_ptop = apply(graphene_top, carbon_forcefield)\n",
    "water_ptop = apply(water_top, spce_forcefield)"
   ]
  },
  {
   "cell_type": "code",
   "execution_count": null,
   "id": "ee5bf9b9-07cb-4500-997c-528399596366",
   "metadata": {},
   "outputs": [],
   "source": [
    "# Iterable attributes\n",
    "# graphene_top.sites\n",
    "# graphene_top.bonds\n",
    "# graphene_top.angles\n",
    "# graphene_top.dihedrals\n",
    "# graphene_top.impropers\n",
    "\n",
    "display(graphene_ptop.sites[0].atom_type.expression)\n",
    "print(f\"{graphene_ptop.sites[0].atom_type.parameters}\")"
   ]
  },
  {
   "cell_type": "code",
   "execution_count": null,
   "id": "ea4e9d96-eda9-4a14-863b-bc207c3eef7f",
   "metadata": {},
   "outputs": [],
   "source": [
    "\"\"\"Utility to output system as Dataframe\"\"\"\n",
    "water_ptop.to_dataframe(site_attrs=[\"atom_type.parameters\"])"
   ]
  },
  {
   "cell_type": "code",
   "execution_count": null,
   "id": "b86e2c48-556b-4a02-b650-da96802f65e3",
   "metadata": {},
   "outputs": [],
   "source": [
    "\"\"\"Utility to output system as Dataframe\"\"\"\n",
    "graphene_ptop.to_dataframe(site_attrs=[\"atom_type.parameters\"])\n",
    "# TODO: only print unique parameters here"
   ]
  },
  {
   "cell_type": "markdown",
   "id": "43f228fd-b222-4a0b-b519-ab9e584c42a1",
   "metadata": {},
   "source": [
    "### Exercise 3 - Parametrized your solvent (ET: 10 mins)\n",
    "1. Use the OPLS to try parameterize the molecule you created in the above exercise (it's may or may not be successful depends on how exotic the molecule you created)\n",
    "    - Summarize the all the atomtypes in a dataframe \n",
    "2. Open the docstring for Topology.to_dataframe\n",
    "    - See what you can modify the output of the dataframe to get the information you need.\n",
    "    "
   ]
  },
  {
   "cell_type": "code",
   "execution_count": 9,
   "id": "246b20aa-d0b2-4938-9f2f-da991a5f8117",
   "metadata": {},
   "outputs": [],
   "source": [
    "### Start your exercise here"
   ]
  },
  {
   "cell_type": "markdown",
   "id": "114d292e-a0af-477e-8d91-68b300253c57",
   "metadata": {
    "tags": []
   },
   "source": [
    "## __4. Saving out to Cassandra files__\n",
    "- The GMSO data structure provide direct support to multiple simulation engines, including GROMACS, LAMMPS, HOOMD-blue, GOMC and Cassandra. This includes the ability to directly save the typed Topology to molecular file input which can be used directly by the corresponding engines.\n",
    "- In this example, we are writing out the file into Cassandra file format (`.mcf`)."
   ]
  },
  {
   "cell_type": "code",
   "execution_count": null,
   "id": "a591f8e6-a2c2-4734-bd06-447bc64fa826",
   "metadata": {},
   "outputs": [],
   "source": [
    "# Saving out file and inspect the output"
   ]
  },
  {
   "cell_type": "markdown",
   "id": "d7d1dbb2-2282-4eac-be45-da723c9101c9",
   "metadata": {},
   "source": [
    "## __5. Set up Cassandra input file and run simulation (Optional)__\n",
    "- Colab with groups to create automated input file generator\n",
    "- Using mosdef_cassandra, mention mosdef_gomc"
   ]
  },
  {
   "cell_type": "code",
   "execution_count": null,
   "id": "31670471-7e18-4295-9770-dde512655168",
   "metadata": {},
   "outputs": [],
   "source": [
    "import mosdef_cassandra as mc\n",
    "import unyt as u\n"
   ]
  },
  {
   "cell_type": "code",
   "execution_count": null,
   "id": "baa21eb4-9162-44a6-96d1-c9717f756b05",
   "metadata": {},
   "outputs": [],
   "source": [
    "# This is pending rewritten with the new mcf PR\n",
    "\n",
    "import mosdef_cassandra as mc\n",
    "import unyt as u\n",
    "\n",
    "# set variables\n",
    "n_steps = 1000\n",
    "temperature = 300 # K\n",
    "mu = -54.0 # u.kJ / u.mol,\n",
    "\n",
    "# Create box and species list\n",
    "box_list = [empty_pore]\n",
    "species_list = [typed_pore, typed_water]\n",
    "\n",
    "# Specify mols at start of the simulation\n",
    "mols_in_boxes = [[1, 0]]\n",
    "\n",
    "# Create MC system\n",
    "system = mc.System(box_list, species_list, mols_in_boxes=mols_in_boxes)\n",
    "moves = mc.MoveSet(\"gcmc\", species_list)\n",
    "\n",
    "# Set move probabilities\n",
    "moves.prob_translate = 0.25\n",
    "moves.prob_rotate = 0.25\n",
    "moves.prob_insert = 0.25\n",
    "moves.prob_regrow = 0.0\n",
    "\n",
    "# Specify the restricted insertion\n",
    "restricted_type = [[None, \"slitpore\"]]\n",
    "restricted_value = [[None, 0.5 * pore_width ]]\n",
    "moves.add_restricted_insertions(\n",
    "    species_list, restricted_type, restricted_value\n",
    ")\n",
    "\n",
    "# Set thermodynamic properties\n",
    "thermo_props = [\n",
    "    \"energy_total\",\n",
    "    \"energy_intervdw\",\n",
    "    \"energy_interq\",\n",
    "    \"nmols\",\n",
    "]\n",
    "\n",
    "default_args = {\n",
    "    \"run_name\" : \"gcmc\",\n",
    "    \"cutoff_style\": \"cut\",\n",
    "    \"charge_style\": \"ewald\",\n",
    "    \"rcut_min\": 0.5 * u.angstrom,\n",
    "    \"vdw_cutoff\": 9.0 * u.angstrom,\n",
    "    \"charge_cutoff\": 9.0 * u.angstrom,\n",
    "    \"properties\": thermo_props,\n",
    "    \"angle_style\": [\"harmonic\", \"fixed\"],\n",
    "    \"coord_freq\": 100000,\n",
    "    \"prop_freq\": 1000,\n",
    "}\n",
    "\n",
    "custom_args = { **default_args, **custom_args}\n",
    "\n",
    "mc.run(\n",
    "    system=system,\n",
    "    moveset=moves,\n",
    "    run_type=\"equilibration\",\n",
    "    run_length=nsteps,\n",
    "    temperature=temperature,\n",
    "    chemical_potentials=[\"none\", mu],\n",
    "    **custom_args,\n",
    ")"
   ]
  },
  {
   "cell_type": "code",
   "execution_count": null,
   "id": "b32fdac7-7c69-4660-847f-ec3e87001345",
   "metadata": {},
   "outputs": [],
   "source": []
  }
 ],
 "metadata": {
  "kernelspec": {
   "display_name": "Python 3 (ipykernel)",
   "language": "python",
   "name": "python3"
  },
  "language_info": {
   "codemirror_mode": {
    "name": "ipython",
    "version": 3
   },
   "file_extension": ".py",
   "mimetype": "text/x-python",
   "name": "python",
   "nbconvert_exporter": "python",
   "pygments_lexer": "ipython3",
   "version": "3.10.11"
  }
 },
 "nbformat": 4,
 "nbformat_minor": 5
}
